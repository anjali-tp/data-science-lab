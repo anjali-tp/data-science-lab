{
 "cells": [
  {
   "cell_type": "code",
   "execution_count": 1,
   "id": "8c50cdd6",
   "metadata": {},
   "outputs": [
    {
     "name": "stdout",
     "output_type": "stream",
     "text": [
      "enter the number:5\n",
      "1\n",
      "2\n",
      "6\n",
      "24\n",
      "120\n"
     ]
    }
   ],
   "source": [
    "n=int(input(\"enter the number:\"))\n",
    "fact=1\n",
    "for x in range(1,n+1):\n",
    "    fact=fact*x\n",
    "    print(fact)\n",
    "\n",
    "    "
   ]
  },
  {
   "cell_type": "code",
   "execution_count": 2,
   "id": "ad8b0fef",
   "metadata": {},
   "outputs": [
    {
     "name": "stdout",
     "output_type": "stream",
     "text": [
      "Enter the first number:5\n",
      "Enter the second number:6\n",
      "Addition: 11\n",
      "subtraction: -1\n",
      "Multiplication: 30\n",
      "Division: 11\n"
     ]
    }
   ],
   "source": [
    "n1=int(input(\"Enter the first number:\"))\n",
    "n2=int(input(\"Enter the second number:\"))\n",
    "\n",
    "def add(n1,n2):\n",
    "    n3=n1+n2\n",
    "    print(\"Addition:\",n3)\n",
    "    \n",
    "def sub(n1,n2):\n",
    "    n3=n1-n2\n",
    "    print(\"subtraction:\",n3)\n",
    "    \n",
    "def mul(n1,n2):\n",
    "    n3=n1*n2\n",
    "    print(\"Multiplication:\",n3)\n",
    "    \n",
    "def div(n1,n2):\n",
    "    n3=n1+n2\n",
    "    print(\"Division:\",n3)\n",
    "add(n1,n2)\n",
    "sub(n1,n2)\n",
    "mul(n1,n2)\n",
    "div(n1,n2)"
   ]
  },
  {
   "cell_type": "code",
   "execution_count": 4,
   "id": "722a7ced",
   "metadata": {},
   "outputs": [
    {
     "name": "stdout",
     "output_type": "stream",
     "text": [
      "Enter the first string:anjali\n",
      "Enter the second string:raj\n",
      "concat anjaliraj\n",
      "capital letter: Anjali\n",
      "uppercase: ANJALI\n"
     ]
    }
   ],
   "source": [
    "#STRING\n",
    "str1=input(\"Enter the first string:\")\n",
    "str2=input(\"Enter the second string:\")\n",
    "\n",
    "#concat\n",
    "st=str1+str2\n",
    "print(\"concat\",st)\n",
    "\n",
    "#capitalise\n",
    "str3=str1.capitalize()\n",
    "print(\"capital letter:\",str3)\n",
    "\n",
    "#uppercase\n",
    "str4=str1.upper()\n",
    "print(\"uppercase:\",str4)\n",
    "\n",
    "#lowercase\n",
    "str5=str1.lower()\n",
    "print(\"lowercase:\",str5)\n",
    "\n",
    "#length of string\n",
    "print(\"length of string:\"len(str1))\n",
    "\n",
    "#center the string\n",
    "str6=str1.center(10,'%')\n",
    "print(str6)\n",
    "\n",
    "#justify\n",
    "str7=str1.ljust(10,'%')\n",
    "print(str7)"
   ]
  },
  {
   "cell_type": "code",
   "execution_count": null,
   "id": "88e15eb5",
   "metadata": {},
   "outputs": [],
   "source": []
  }
 ],
 "metadata": {
  "kernelspec": {
   "display_name": "Python 3 (ipykernel)",
   "language": "python",
   "name": "python3"
  },
  "language_info": {
   "codemirror_mode": {
    "name": "ipython",
    "version": 3
   },
   "file_extension": ".py",
   "mimetype": "text/x-python",
   "name": "python",
   "nbconvert_exporter": "python",
   "pygments_lexer": "ipython3",
   "version": "3.11.4"
  }
 },
 "nbformat": 4,
 "nbformat_minor": 5
}
