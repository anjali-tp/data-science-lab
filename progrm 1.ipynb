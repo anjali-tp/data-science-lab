{
 "cells": [
  {
   "cell_type": "code",
   "execution_count": 1,
   "id": "8c50cdd6",
   "metadata": {},
   "outputs": [
    {
     "name": "stdout",
     "output_type": "stream",
     "text": [
      "enter the number:5\n",
      "1\n",
      "2\n",
      "6\n",
      "24\n",
      "120\n"
     ]
    }
   ],
   "source": [
    "n=int(input(\"enter the number:\"))\n",
    "fact=1\n",
    "for x in range(1,n+1):\n",
    "    fact=fact*x\n",
    "    print(fact)\n",
    "\n",
    "    "
   ]
  },
  {
   "cell_type": "code",
   "execution_count": 2,
   "id": "ad8b0fef",
   "metadata": {},
   "outputs": [
    {
     "name": "stdout",
     "output_type": "stream",
     "text": [
      "Enter the first number:5\n",
      "Enter the second number:6\n",
      "Addition: 11\n",
      "subtraction: -1\n",
      "Multiplication: 30\n",
      "Division: 11\n"
     ]
    }
   ],
   "source": [
    "n1=int(input(\"Enter the first number:\"))\n",
    "n2=int(input(\"Enter the second number:\"))\n",
    "\n",
    "def add(n1,n2):\n",
    "    n3=n1+n2\n",
    "    print(\"Addition:\",n3)\n",
    "    \n",
    "def sub(n1,n2):\n",
    "    n3=n1-n2\n",
    "    print(\"subtraction:\",n3)\n",
    "    \n",
    "def mul(n1,n2):\n",
    "    n3=n1*n2\n",
    "    print(\"Multiplication:\",n3)\n",
    "    \n",
    "def div(n1,n2):\n",
    "    n3=n1+n2\n",
    "    print(\"Division:\",n3)\n",
    "add(n1,n2)\n",
    "sub(n1,n2)\n",
    "mul(n1,n2)\n",
    "div(n1,n2)"
   ]
  },
  {
   "cell_type": "code",
   "execution_count": 4,
   "id": "722a7ced",
   "metadata": {},
   "outputs": [
    {
     "name": "stdout",
     "output_type": "stream",
     "text": [
      "Enter the first string:anjaly\n",
      "Enter the second string:raj\n",
      "concat anjalyraj\n",
      "capital letter: Anjaly\n",
      "uppercase: ANJALY\n",
      "lowercase: anjaly\n",
      "length of string: 6\n",
      "%%anjaly%%\n",
      "anjaly%%%%\n",
      "-----------------raj\n",
      "format : good anjaly fine raj that is Anjaly\n",
      "strip white space : anjaly\n",
      "AND:   False\n",
      "OR: True\n",
      "NOT: False\n"
     ]
    }
   ],
   "source": [
    "#STRING\n",
    "str1=input(\"Enter the first string:\")\n",
    "str2=input(\"Enter the second string:\")\n",
    "\n",
    "#concat\n",
    "st=str1+str2\n",
    "print(\"concat\",st)\n",
    "\n",
    "#capitalise\n",
    "str3=str1.capitalize()\n",
    "print(\"capital letter:\",str3)\n",
    "\n",
    "#uppercase\n",
    "str4=str1.upper()\n",
    "print(\"uppercase:\",str4)\n",
    "\n",
    "#lowercase\n",
    "str5=str1.lower()\n",
    "print(\"lowercase:\",str5)\n",
    "\n",
    "#length of string\n",
    "print(\"length of string:\",len(str1))\n",
    "\n",
    "#center the string\n",
    "str6=str1.center(10,'%')\n",
    "print(str6)\n",
    "\n",
    "#justify\n",
    "str7=str1.ljust(10,'%')\n",
    "print(str7)\n",
    "str8=str2.rjust(20,'-')\n",
    "print(str8)\n",
    "\n",
    "#format\n",
    "print(\"format :\",f\"good {str1} fine {str2} that is {str3}\")\n",
    "\n",
    "#strip\n",
    "print(\"strip white space :\",str1.strip())\n",
    "\n",
    "#boolen\n",
    "p=True\n",
    "q=False\n",
    "print(\"AND:  \",p and q)\n",
    "print(\"OR:\",p or q)\n",
    "print(\"NOT:\",not p)"
   ]
  },
  {
   "cell_type": "code",
   "execution_count": 24,
   "id": "3fa9f59d",
   "metadata": {},
   "outputs": [
    {
     "name": "stdout",
     "output_type": "stream",
     "text": [
      "largest number is:\n",
      "100\n",
      "without duplicates:\n",
      "[100, 40, 10, 50, 20, 90, 60, 30]\n",
      "merged dictionary:\n",
      "{'a': 1, 'b': 3, 'c': 4}\n"
     ]
    }
   ],
   "source": [
    "#largest no. from list\n",
    "\n",
    "num=[20,30,40,50,60,70,80,90,100]\n",
    "largest_number=max(num)\n",
    "print(\"largest number is:\")\n",
    "print(max(num))\n",
    "\n",
    "\n",
    "#list without duplicates\n",
    "\n",
    "num=[10,20,30,20,40,60,90,60,50,40,100]\n",
    "without_duplicates=list(set(num))\n",
    "print(\"without duplicates:\")\n",
    "print(without_duplicates)\n",
    "\n",
    "\n",
    "#merge two python dictionaries\n",
    "\n",
    "dict1 = {'a': 1, 'b': 2}\n",
    "dict2 = {'b': 3, 'c': 4}\n",
    "dict1.update(dict2)\n",
    "print(\"merged dictionary:\")\n",
    "print(dict1)\n",
    "\n"
   ]
  },
  {
   "cell_type": "code",
   "execution_count": 31,
   "id": "3d4cbe2f",
   "metadata": {},
   "outputs": [
    {
     "name": "stdout",
     "output_type": "stream",
     "text": [
      "True\n",
      "False\n"
     ]
    }
   ],
   "source": [
    "def has_common_member(list1, list2):\n",
    "    \n",
    "    set1 = set(list1)\n",
    "    set2 = set(list2)\n",
    "    \n",
    "    if set1.intersection(set2):\n",
    "        return True\n",
    "    else:\n",
    "        return False\n",
    "\n",
    "\n",
    "list1 = [1, 2, 3, 4, 5]\n",
    "list2 = [5, 6, 7, 8, 9]\n",
    "print(has_common_member(list1, list2)) \n",
    "list3 = [1, 2, 3]\n",
    "list4 = [4, 5, 6]\n",
    "print(has_common_member(list3, list4))  \n"
   ]
  },
  {
   "cell_type": "code",
   "execution_count": null,
   "id": "622dff94",
   "metadata": {},
   "outputs": [],
   "source": []
  }
 ],
 "metadata": {
  "kernelspec": {
   "display_name": "Python 3 (ipykernel)",
   "language": "python",
   "name": "python3"
  },
  "language_info": {
   "codemirror_mode": {
    "name": "ipython",
    "version": 3
   },
   "file_extension": ".py",
   "mimetype": "text/x-python",
   "name": "python",
   "nbconvert_exporter": "python",
   "pygments_lexer": "ipython3",
   "version": "3.11.4"
  }
 },
 "nbformat": 4,
 "nbformat_minor": 5
}
